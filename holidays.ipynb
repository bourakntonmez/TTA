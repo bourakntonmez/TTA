Holidays.ipynb

import pandas as pd

holiday_file = pd.read_csv("DDD.csv")

holiday_file

#1 how many rows and columns are there in the file
holiday_file.shape

#2 print row 3-8
holiday_file.iloc[3:9]

#3 find the mean number of all inclusive hotels across all destinations
holiday_file["No of All-inclusive hotels"].mean()

#4 find the lowest scoring destination
min_filter = holiday_file["Score"] = holiday_file["Score"].min()

print("Lowest score: ")
holiday_file[min_filter]

#5 find the highest scoring destination

min_filter = holiday_file["Score"] = holiday_file["Score"].max()

print("Highest score: ")
holiday_file[max_filter]

#6 find the destinations that has more than 600 all inc hotels
num_hotels_filter = holiday_file["No of All-inclusive hotels"] >600
holiday_file[num_hotels_filter]

#7 filter by score above 8

score_filter = holiday_file["Score"] > 8
print("destinations with score above 8: ")
holiday_file(score_filter)

#8 filter by score below 2

score_filter = holiday_file["Score"] < 2
print("destinations with score below 2: ")
holiday_file(score_filter)

#9 correlation between no of inclusive hotels and score

data = holiday_file[["Score","No of All-inclusive hotels"]]

data.corr()

#10 visualisation diagram to show destination,scores

holiday_file.set_index("Destinations", inplace= True)
holiday_file.plot.bar(y = "Score")

import matplotlib
holiday_file.groupby(["Destinations"]).sum().plot.pie(y="No of All-inclusive hotels", figsize=(8,8))