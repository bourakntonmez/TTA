#task1 
import random
myName = input("Hello! What is your name?")
number = random.randint(1, 10)
print("Well, " +myName +" I am thinking of a number between 1 and 10.")
guess = int(input("Take a guess:") )
if guess == number:
 print("Good job," +myName +"! You guessed my number")
else :

 print("Wrong, better luck next time ")

#task2

import random
num = random.randint(1, 100)

favNumber = int(input(" What`s your favourite number between 1-100 ? :") )
if favNumber <= 33:
    print(" Hear about the new restaurant called Karma?")
    print("There’s no menu: You get what you deserve. ")
elif 33 > favNumber <= 66:
    print(" Why don’t scientists trust atoms?") 
    print(" Because they make up everything. ")     
elif 66 > favNumber < 100:
    print("What did the Buddhist say to the hot dog vendor?")
    print("Make me one with everything. ")
else :
    print("Wrong no joke for you, better luck next time ")

#task3
favStarter = str(input("Hello, whats your favourite starter"))
print("That`s great choice")
maincourse = str(input("What would you like as a maincourse?"))
print("Another great choice. You definitely know what to order")
dessert = str(input("What would you like to get as a desert?"))
print("Great.")
vine = str(input("What vine would you fancy?"))
print("Your favourite meal is "+favStarter+ "with a glass of"+vine+ "enjoyed")


#task4
motorbikeValue =2000
while motorbikeValue>1000 :
    print(motorbikeValue)
    motorbikeValue = motorbikeValue*0.9

#task5
num1 = int(input("Enter First Number: "))
num2 = int(input("Enter Second Number: "))

print("Enter which operation would you like to perform?")
ch = input("Enter any of these char for specific operation +,-,*,/: ")

result = 0
if ch == '+':
    result = num1 + num2
elif ch == '-':
    result = num1 - num2
elif ch == '*':
    result = num1 * num2
elif ch == '/':
    result = num1 / num2
else:
    print("Input character is not recognized!")

print(num1, ch , num2, ":", result)

#phyton 2 task1

motorbikeValue =2000
#while the number is greater than thousand

while motorbikeValue>1000 :

	#display it
	    print(motorbikeValue)
	#multipy by 0.9
            motorbikeValue = motorbikeValue*0.9

#phyton 2 task2 
#Ask the user for 2 numbers and convernt integer
num1 = int(input("Enter First Number: "))
num2 = int(input("Enter Second Number: "))
#display to `ask enter which operation would you like to perform?`
print("Enter which operation would you like to perform?")
# enter which char for specific math operation 
ch = input("Enter any of these char for specific operation +,-,*,/: ")
#result equal to 0
result = 0
# if `+` selected use + 
if ch == '+':
    # do the math operation using by + 
    result = num1 + num2
    # else if `-` selected use - 
elif ch == '-':
    # do the math operation using by - 
    result = num1 - num2
     # else if `*` selected use * 
elif ch == '*':
    # do the math operation using by * 
    result = num1 * num2
     # else if `/` selected use / 
elif ch == '/':
    # do the math operation using by / 
    result = num1 / num2
else:
     # if there is anything else selected instead of this operations display "Input character is not recognized!"
    print("Input character is not recognized!")
# Display math operation with result
print(num1, ch , num2, ":", result)


#phyton 3 task1

my_file = open("Numbers.txt", "w")
num1 = int(input("Enter First Number: "))
num2 = int(input("Enter Second Number: "))
num3 = int(input("Enter Third Number: "))
num4 = int(input("Enter Forth Number: "))

my_file.write(str(num1))
my_file.write(str(num2))
my_file.write(str(num3))
my_file.write(str(num4))
my_file.write("\n")
my_file.close() 

with open("Numbers.txt", "r") as my_file:
	data = my_file.read(",\n")
my_file.close()
my_file = open("Numbers.txt", "a")
my_file.write("")
my_file.close()

#phyton 3 task2 
#phyton 3 task2 

def  grade ():
    targetgrade = int(input("Enter your target grade"))
    if mark_grade >= gradeB
        print("well done")
    gradeA =  70-100
    gradeB = 60-69
    gradeC = 50-59
    gradeD = 40-49
    examgrade = gradeB

    
    return mark_grade


 
#print("well done you passed your target")
#tgrade= egrade
#print(" Good job you are on your target")
#tgrade > egrade
#print("You are under of your target, you have to work harder")
