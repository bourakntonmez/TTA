#task1 
import random
myName = input("Hello! What is your name?")
number = random.randint(1, 10)
print("Well, " +myName +" I am thinking of a number between 1 and 10.")
guess = int(input("Take a guess:") )
if guess == number:
 print("Good job," +myName +"! You guessed my number")
else :

 print("Wrong, better luck next time ")

#task2

import random
num = random.randint(1, 100)

favNumber = int(input(" What`s your favourite number between 1-100 ? :") )
if favNumber <= 33:
    print(" Hear about the new restaurant called Karma?")
    print("There’s no menu: You get what you deserve. ")
elif 33 > favNumber <= 66:
    print(" Why don’t scientists trust atoms?") 
    print(" Because they make up everything. ")     
elif 66 > favNumber < 100:
    print("What did the Buddhist say to the hot dog vendor?")
    print("Make me one with everything. ")
else :
    print("Wrong no joke for you, better luck next time ")

#task3
favStarter = str(input("Hello, whats your favourite starter"))
print("That`s great choice")
maincourse = str(input("What would you like as a maincourse?"))
print("Another great choice. You definitely know what to order")
dessert = str(input("What would you like to get as a desert?"))
print("Great.")
vine = str(input("What vine would you fancy?"))
print("Your favourite meal is "+favStarter+ "with a glass of"+vine+ "enjoyed")


#task4
motorbikeValue =2000
while motorbikeValue>1000 :
    print(motorbikeValue)
    motorbikeValue = motorbikeValue*0.9

#task5
num1 = int(input("Enter First Number: "))
num2 = int(input("Enter Second Number: "))

print("Enter which operation would you like to perform?")
ch = input("Enter any of these char for specific operation +,-,*,/: ")

result = 0
if ch == '+':
    result = num1 + num2
elif ch == '-':
    result = num1 - num2
elif ch == '*':
    result = num1 * num2
elif ch == '/':
    result = num1 / num2
else:
    print("Input character is not recognized!")

print(num1, ch , num2, ":", result)

#phyton 2 task1

motorbikeValue =2000
#while the number is greater than thousand

while motorbikeValue>1000 :

	#display it
	    print(motorbikeValue)
	#multipy by 0.9
            motorbikeValue = motorbikeValue*0.9

#phyton 2 task2 
#Ask the user for 2 numbers and convernt integer
num1 = int(input("Enter First Number: "))
num2 = int(input("Enter Second Number: "))
#display to `ask enter which operation would you like to perform?`
print("Enter which operation would you like to perform?")
# enter which char for specific math operation 
ch = input("Enter any of these char for specific operation +,-,*,/: ")
#result equal to 0
result = 0
# if `+` selected use + 
if ch == '+':
    # do the math operation using by + 
    result = num1 + num2
    # else if `-` selected use - 
elif ch == '-':
    # do the math operation using by - 
    result = num1 - num2
     # else if `*` selected use * 
elif ch == '*':
    # do the math operation using by * 
    result = num1 * num2
     # else if `/` selected use / 
elif ch == '/':
    # do the math operation using by / 
    result = num1 / num2
else:
     # if there is anything else selected instead of this operations display "Input character is not recognized!"
    print("Input character is not recognized!")
# Display math operation with result
print(num1, ch , num2, ":", result)


#phyton 3 task1

my_file = open("Numbers.txt", "w")
num1 = int(input("Enter First Number: "))
num2 = int(input("Enter Second Number: "))
num3 = int(input("Enter Third Number: "))
num4 = int(input("Enter Forth Number: "))

my_file.write(str(num1))
my_file.write(str(num2))
my_file.write(str(num3))
my_file.write(str(num4))
my_file.write("\n")
my_file.close() 

with open("Numbers.txt", "r") as my_file:
	data = my_file.read(",\n")
my_file.close()
my_file = open("Numbers.txt", "a")
my_file.write("")
my_file.close()

#phyton 3 task2 
#phyton 3 task2 

def  grade ():
    targetgrade = int(input("Enter your target grade"))
    if mark_grade >= gradeB
        print("well done")
    gradeA =  70-100
    gradeB = 60-69
    gradeC = 50-59
    gradeD = 40-49
    examgrade = gradeB

    
    return mark_grade


 
#print("well done you passed your target")
#tgrade= egrade
#print(" Good job you are on your target")
#tgrade > egrade
#print("You are under of your target, you have to work harder")


#week3 
#1Create a 1D array of numbers from 0 to 9
import numpy as np
x = np.arange(10)
print("Create a 1D array of numbers from 0 to 9:")
print(x)

#2 Create a 3×3 NumPy array of all Boolean value Trues
sample_arr = [True, False]

bool_arr = np.random.choice(sample_arr, size=(3,3))
print('2D Numpy Array: ')
print(bool_arr)

#3 Extract all odd numbers from array of 1-10

import numpy as np
a = np.array([1,2,3,4,5,6,6,7,7,8,9])
a[a % 2 == 1]

#4 Replace all odd numbers in an array of 1-10 with the value -1

import numpy as np 
 
a = np.array([ 1,  2,  3,  4,  5,  6,  7,  8,  9, 10]) 
 
odd_values = (a%2 == 1) 
a[odd_values] = -1 
# array([-1,  2, -1,  4, -1,  6, -1,  8, -1, 10]) 
 
##a[a%2 == 1] = -1 



#5 Convert a 1D array to a 2D array with 2 rows

import numpy as np

import numpy as np

arr = np.array([1, 2, 3, 4, 5, 6])

n = arr.reshape(3, 2)

print(n)


#6 Create two arrays a and b, stack these two arrays vertically use the np.dot and  np.sum to calculate totals

import numpy as np
a = np.arange (10,20) 
b = np.arange (20,29)  
c = np.dot(a, b)
sum = np.sum(c) 
print(sum)
print(c)


import pandas as pd

vetdata = pd.read_csv("ddd.csv")


df = pd.DataFrame(result_data, index = None)
  

rows = len(df.axes[0])
  

cols = len(df.axes[1])
  
print(df)
print("Number of Rows: ", rows)
print("Number of Columns: ", cols)


vetdata = pd.read_csv("ddd.csv", index_col="Destinations")
print(vetdata.loc[["Spain","South Korea","Turkey","Japan","United States","Greece"]]

myfilter =data["Score"] > 8

highscore = data[myfilter]
highscore.head()
data[(data.score >8) & (data.platform == "Score")]