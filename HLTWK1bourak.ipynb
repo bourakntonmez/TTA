#task1 
import random
myName = input("Hello! What is your name?")
number = random.randint(1, 10)
print("Well, " +myName +" I am thinking of a number between 1 and 10.")
guess = int(input("Take a guess:") )
if guess == number:
 print("Good job," +myName +"! You guessed my number")
else :

 print("Wrong, better luck next time ")

#task2

import random
num = random.randint(1, 100)

favNumber = int(input(" What`s your favourite number between 1-100 ? :") )
if favNumber <= 33:
    print(" Hear about the new restaurant called Karma?")
    print("There’s no menu: You get what you deserve. ")
elif 33 > favNumber <= 66:
    print(" Why don’t scientists trust atoms?") 
    print(" Because they make up everything. ")     
elif 66 > favNumber < 100:
    print("What did the Buddhist say to the hot dog vendor?")
    print("Make me one with everything. ")
else :
    print("Wrong no joke for you, better luck next time ")

#task3
favStarter = str(input("Hello, whats your favourite starter"))
print("That`s great choice")
maincourse = str(input("What would you like as a maincourse?"))
print("Another great choice. You definitely know what to order")
dessert = str(input("What would you like to get as a desert?"))
print("Great.")
vine = str(input("What vine would you fancy?"))
print("Your favourite meal is "+favStarter+ "with a glass of"+vine+ "enjoyed")


#task4
motorbikeValue =2000
while motorbikeValue>1000 :
    print(motorbikeValue)
    motorbikeValue = motorbikeValue*0.9

#task5